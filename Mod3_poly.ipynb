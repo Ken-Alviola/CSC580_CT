{
 "cells": [
  {
   "cell_type": "code",
   "execution_count": 1,
   "id": "d311dcb7-0e9d-4172-aa69-1a7e5a3add15",
   "metadata": {},
   "outputs": [],
   "source": [
    "import pandas as pd\n",
    "import numpy as np\n",
    "from sklearn.model_selection import train_test_split\n",
    "from sklearn.preprocessing import StandardScaler, PolynomialFeatures\n",
    "from tensorflow.keras.models import Sequential\n",
    "from tensorflow.keras.layers import Dense\n",
    "from tensorflow.keras import backend as K"
   ]
  },
  {
   "cell_type": "code",
   "execution_count": 17,
   "id": "b77177c7-7d1d-440f-afae-c2b8d20970a9",
   "metadata": {},
   "outputs": [],
   "source": [
    "# Define RMSE as a custom metric\n",
    "def rmse(y_true, y_pred):\n",
    "    return K.sqrt(K.mean(K.square(y_pred - y_true)))\n",
    "\n",
    "# Load the data\n",
    "file_path = 'cleaned.csv'  # Replace with your actual path\n",
    "data = pd.read_csv(file_path, low_memory=False)\n",
    "\n",
    "# Preprocess the data\n",
    "# Drop unnecessary columns if needed (e.g., 'epoch', timestamps if not useful)\n",
    "X = data.drop(columns=['closePrice', 'epoch', 'startTimestamp', 'lockTimestamp', 'closeTimestamp', '2round_price_increased'])\n",
    "y = data['closePrice']\n",
    "\n",
    "# Convert scientific notation strings to floats\n",
    "X = X.apply(pd.to_numeric, errors='coerce')\n",
    "y = pd.to_numeric(y, errors='coerce')\n",
    "\n",
    "# Fill or drop missing values if present\n",
    "X.dropna(inplace=True)  # Fill with 0 or use X.dropna(inplace=True)\n",
    "y.dropna(inplace=True)"
   ]
  },
  {
   "cell_type": "code",
   "execution_count": 18,
   "id": "4469ca2b-47b7-4926-9bc3-8d8a7b0964db",
   "metadata": {},
   "outputs": [
    {
     "name": "stdout",
     "output_type": "stream",
     "text": [
      "\n",
      "Training model for polynomial degree: 2\n",
      "Polynomial Degree: 2\n",
      "Test Mean Absolute Error (MAE): 581.4616064\n",
      "Test RMSE: 581.56068864\n",
      "\n",
      "Training model for polynomial degree: 3\n",
      "Polynomial Degree: 3\n",
      "Test Mean Absolute Error (MAE): 559.45428992\n",
      "Test RMSE: 559.58904832\n",
      "\n",
      "Training model for polynomial degree: 4\n",
      "Polynomial Degree: 4\n",
      "Test Mean Absolute Error (MAE): 548.45513728\n",
      "Test RMSE: 548.62180352\n",
      "\n",
      "Training model for polynomial degree: 5\n",
      "Polynomial Degree: 5\n",
      "Test Mean Absolute Error (MAE): 517.28896\n",
      "Test RMSE: 517.54397696\n",
      "\n",
      "Training model for polynomial degree: 6\n",
      "Polynomial Degree: 6\n",
      "Test Mean Absolute Error (MAE): 516.27491328\n",
      "Test RMSE: 516.55405568\n"
     ]
    }
   ],
   "source": [
    "# Loop through polynomial degrees\n",
    "for degree in range(2, 7):\n",
    "    print(f\"\\nTraining model for polynomial degree: {degree}\")\n",
    "\n",
    "    # Generate polynomial features\n",
    "    poly = PolynomialFeatures(degree)\n",
    "    X_poly = poly.fit_transform(X)\n",
    "\n",
    "    # Scale the polynomial features\n",
    "    scaler = StandardScaler()\n",
    "    X_scaled = scaler.fit_transform(X_poly)\n",
    "\n",
    "    # Split into training and testing sets\n",
    "    X_train, X_test, y_train, y_test = train_test_split(X_scaled, y, test_size=0.2, random_state=42, shuffle=False)\n",
    "\n",
    "    # Build the neural network model\n",
    "    model = Sequential([\n",
    "        Dense(128, input_dim=X_train.shape[1], activation='relu'),\n",
    "        Dense(64, activation='relu'),\n",
    "        Dense(1, activation='linear')  # Output layer for regression\n",
    "    ])\n",
    "\n",
    "    # Compile the model with RMSE as a metric\n",
    "    model.compile(optimizer='adam', loss='mean_squared_error', metrics=['mean_absolute_error', rmse])\n",
    "\n",
    "    # Train the model\n",
    "    history = model.fit(X_train, y_train, validation_split=0.2, epochs=50, batch_size=256, verbose=0)\n",
    "\n",
    "    # Evaluate the model\n",
    "    loss, mae, rmse_value = model.evaluate(X_test, y_test, verbose=0)\n",
    "    print(f\"Polynomial Degree: {degree}\")\n",
    "    print(f\"Test Mean Absolute Error (MAE): {mae/1e8}\")\n",
    "    print(f\"Test RMSE: {rmse_value/1e8}\")"
   ]
  },
  {
   "cell_type": "code",
   "execution_count": null,
   "id": "c1b32c77-cdd9-4e40-86d0-6d29e559e2f9",
   "metadata": {},
   "outputs": [],
   "source": []
  }
 ],
 "metadata": {
  "kernelspec": {
   "display_name": "Python 3 (ipykernel)",
   "language": "python",
   "name": "python3"
  },
  "language_info": {
   "codemirror_mode": {
    "name": "ipython",
    "version": 3
   },
   "file_extension": ".py",
   "mimetype": "text/x-python",
   "name": "python",
   "nbconvert_exporter": "python",
   "pygments_lexer": "ipython3",
   "version": "3.9.21"
  }
 },
 "nbformat": 4,
 "nbformat_minor": 5
}
