{
 "cells": [
  {
   "cell_type": "code",
   "execution_count": 3,
   "id": "fa0066e7-d8bf-4cea-b100-802e7ecd6098",
   "metadata": {},
   "outputs": [
    {
     "name": "stdout",
     "output_type": "stream",
     "text": [
      "C:\\Users\\Ken\\miniconda3\\envs\\CSC580\\python.exe\n"
     ]
    }
   ],
   "source": [
    "import sys\n",
    "print(sys.executable)"
   ]
  },
  {
   "cell_type": "code",
   "execution_count": 1,
   "id": "2a63da40-eea8-4ae4-b9f0-4d8707c64ab3",
   "metadata": {},
   "outputs": [],
   "source": [
    "from PIL import Image, ImageDraw\n",
    "import face_recognition"
   ]
  },
  {
   "cell_type": "code",
   "execution_count": 2,
   "id": "e0f03f2b-957e-4473-bd13-9eb8b809fab2",
   "metadata": {},
   "outputs": [
    {
     "name": "stdout",
     "output_type": "stream",
     "text": [
      "Found 8 face(s) in this picture.\n",
      "A face is located at pixel location Top: 425, Left: 855, Bottom: 580, Right: 1010\n",
      "A face is located at pixel location Top: 534, Left: 0, Bottom: 641, Right: 103\n",
      "A face is located at pixel location Top: 563, Left: 511, Bottom: 718, Right: 666\n",
      "A face is located at pixel location Top: 514, Left: 1011, Bottom: 604, Right: 1101\n",
      "A face is located at pixel location Top: 593, Left: 1166, Bottom: 701, Right: 1274\n",
      "A face is located at pixel location Top: 486, Left: 318, Bottom: 593, Right: 426\n",
      "A face is located at pixel location Top: 528, Left: 270, Bottom: 683, Right: 425\n",
      "A face is located at pixel location Top: 564, Left: 1818, Bottom: 654, Right: 1907\n"
     ]
    }
   ],
   "source": [
    "# Load the provided image file into a numpy array\n",
    "image_path = \"jongun.jpg\"\n",
    "image = face_recognition.load_image_file(image_path)\n",
    "\n",
    "# Find all face locations in the image\n",
    "face_locations = face_recognition.face_locations(image)\n",
    "number_of_faces = len(face_locations)\n",
    "print(\"Found {} face(s) in this picture.\".format(number_of_faces))\n",
    "\n",
    "# Load the image into a Python Image Library (PIL) object so that we can draw on it\n",
    "pil_image = Image.fromarray(image)\n",
    "draw_handle = ImageDraw.Draw(pil_image)\n",
    "\n",
    "# Loop through each face found in the image\n",
    "for face_location in face_locations:\n",
    "    # Get the coordinates of the face\n",
    "    top, right, bottom, left = face_location\n",
    "    print(\"A face is located at pixel location Top: {}, Left: {}, Bottom: {}, Right: {}\".format(top, left, bottom, right))\n",
    "    \n",
    "    # Draw a rectangle around the face\n",
    "    draw_handle.rectangle([left, top, right, bottom], outline=\"red\", width=3)\n",
    "\n",
    "# Display the image with red rectangles around detected faces\n",
    "pil_image.show()"
   ]
  },
  {
   "cell_type": "code",
   "execution_count": null,
   "id": "0294e02c-dbf9-4403-bcdd-7d169f8beeea",
   "metadata": {},
   "outputs": [],
   "source": []
  }
 ],
 "metadata": {
  "kernelspec": {
   "display_name": "Python 3 (ipykernel)",
   "language": "python",
   "name": "python3"
  },
  "language_info": {
   "codemirror_mode": {
    "name": "ipython",
    "version": 3
   },
   "file_extension": ".py",
   "mimetype": "text/x-python",
   "name": "python",
   "nbconvert_exporter": "python",
   "pygments_lexer": "ipython3",
   "version": "3.9.21"
  }
 },
 "nbformat": 4,
 "nbformat_minor": 5
}
