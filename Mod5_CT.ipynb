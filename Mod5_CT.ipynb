{
 "cells": [
  {
   "cell_type": "code",
   "execution_count": 1,
   "id": "8ee98c2b-542d-48d5-b5a4-1bbffb5b7aeb",
   "metadata": {},
   "outputs": [],
   "source": [
    "from sklearn.datasets import load_iris\n",
    "from sklearn.ensemble import RandomForestClassifier\n",
    "import pandas as pd\n",
    "import numpy as np\n",
    "from sklearn.metrics import confusion_matrix"
   ]
  },
  {
   "cell_type": "code",
   "execution_count": 2,
   "id": "dd5a632c-ae00-4a89-a09d-38fbef8c4cab",
   "metadata": {},
   "outputs": [
    {
     "name": "stdout",
     "output_type": "stream",
     "text": [
      "Dataset head:\n",
      "   sepal length (cm)  sepal width (cm)  petal length (cm)  petal width (cm)  \\\n",
      "0                5.1               3.5                1.4               0.2   \n",
      "1                4.9               3.0                1.4               0.2   \n",
      "2                4.7               3.2                1.3               0.2   \n",
      "3                4.6               3.1                1.5               0.2   \n",
      "4                5.0               3.6                1.4               0.2   \n",
      "\n",
      "  species  \n",
      "0  setosa  \n",
      "1  setosa  \n",
      "2  setosa  \n",
      "3  setosa  \n",
      "4  setosa  \n"
     ]
    }
   ],
   "source": [
    "# Set random seed\n",
    "np.random.seed(0)\n",
    "\n",
    "# 1) Load the data\n",
    "iris = load_iris()\n",
    "df = pd.DataFrame(iris.data, columns=iris.feature_names)\n",
    "df['species'] = pd.Categorical.from_codes(iris.target, iris.target_names)\n",
    "print(\"Dataset head:\")\n",
    "print(df.head())"
   ]
  },
  {
   "cell_type": "code",
   "execution_count": 3,
   "id": "b229c34f-596d-416d-ada3-e55ccb481d4c",
   "metadata": {},
   "outputs": [
    {
     "name": "stdout",
     "output_type": "stream",
     "text": [
      "Number of observations in the training data: 118\n",
      "Number of observations in the test data: 32\n"
     ]
    }
   ],
   "source": [
    "# 2) Create training and test data\n",
    "df['is_train'] = np.random.uniform(0, 1, len(df)) <= 0.75\n",
    "train, test = df[df['is_train'] == True], df[df['is_train'] == False]\n",
    "print(f\"Number of observations in the training data: {len(train)}\")\n",
    "print(f\"Number of observations in the test data: {len(test)}\")"
   ]
  },
  {
   "cell_type": "code",
   "execution_count": 4,
   "id": "ac4c8f67-3bd8-4a3b-9186-04c40897f995",
   "metadata": {},
   "outputs": [
    {
     "name": "stdout",
     "output_type": "stream",
     "text": [
      "Features:\n",
      "Index(['sepal length (cm)', 'sepal width (cm)', 'petal length (cm)',\n",
      "       'petal width (cm)'],\n",
      "      dtype='object')\n",
      "Encoded target:\n",
      "[0 0 0 0 0 0 0 0 0 0 0 0 0 0 0 0 0 0 0 0 0 0 0 0 0 0 0 0 0 0 0 0 0 0 0 0 0\n",
      " 1 1 1 1 1 1 1 1 1 1 1 1 1 1 1 1 1 1 1 1 1 1 1 1 1 1 1 1 1 1 1 1 1 1 1 1 1\n",
      " 1 1 1 1 1 1 2 2 2 2 2 2 2 2 2 2 2 2 2 2 2 2 2 2 2 2 2 2 2 2 2 2 2 2 2 2 2\n",
      " 2 2 2 2 2 2 2]\n"
     ]
    }
   ],
   "source": [
    "# 3) Preprocess the data\n",
    "features = df.columns[:4]  # Feature columns\n",
    "y = pd.factorize(train['species'])[0]  # Encode target labels\n",
    "\n",
    "print(\"Features:\")\n",
    "print(features)\n",
    "print(\"Encoded target:\")\n",
    "print(y)"
   ]
  },
  {
   "cell_type": "code",
   "execution_count": 5,
   "id": "6385849a-795d-4615-9339-19aeb9580c4b",
   "metadata": {},
   "outputs": [
    {
     "name": "stdout",
     "output_type": "stream",
     "text": [
      "Random Forest Classifier trained.\n"
     ]
    }
   ],
   "source": [
    "# 4) Train the Random Forest Classifier\n",
    "clf = RandomForestClassifier(n_jobs=2, random_state=0)\n",
    "clf.fit(train[features], y)\n",
    "print(\"Random Forest Classifier trained.\")"
   ]
  },
  {
   "cell_type": "code",
   "execution_count": 6,
   "id": "7bed978c-05f1-40b5-acba-6f9ed118a1cd",
   "metadata": {},
   "outputs": [
    {
     "name": "stdout",
     "output_type": "stream",
     "text": [
      "Predictions for the first 10 test observations:\n",
      "[0 0 0 0 0 0 0 0 0 0]\n"
     ]
    }
   ],
   "source": [
    "# 5) Apply the classifier to the test data\n",
    "preds = clf.predict(test[features])\n",
    "print(\"Predictions for the first 10 test observations:\")\n",
    "print(preds[:10])"
   ]
  },
  {
   "cell_type": "code",
   "execution_count": 7,
   "id": "113a9f66-a164-42b2-a8bd-03be408052c3",
   "metadata": {},
   "outputs": [
    {
     "name": "stdout",
     "output_type": "stream",
     "text": [
      "Actual species for the first 5 test observations:\n",
      "['setosa', 'setosa', 'setosa', 'setosa', 'setosa']\n",
      "Predicted species for the first 5 test observations:\n",
      "[0 0 0 0 0]\n"
     ]
    }
   ],
   "source": [
    "# 6) Evaluate the classifier\n",
    "print(\"Actual species for the first 5 test observations:\")\n",
    "print(test['species'].head().tolist())\n",
    "print(\"Predicted species for the first 5 test observations:\")\n",
    "print(preds[:5])"
   ]
  },
  {
   "cell_type": "code",
   "execution_count": 8,
   "id": "51a55b96-d6aa-4d31-91d7-5f145a0a730c",
   "metadata": {},
   "outputs": [
    {
     "name": "stdout",
     "output_type": "stream",
     "text": [
      "Confusion Matrix:\n",
      "Predicted Species  setosa  versicolor  virginica\n",
      "Actual Species                                  \n",
      "setosa                 13           0          0\n",
      "versicolor              0           5          2\n",
      "virginica               0           0         12\n"
     ]
    }
   ],
   "source": [
    "# 7) Create a confusion matrix\n",
    "conf_matrix = pd.crosstab(test['species'], [iris.target_names[p] for p in preds],\n",
    "                          rownames=['Actual Species'], colnames=['Predicted Species'])\n",
    "print(\"Confusion Matrix:\")\n",
    "print(conf_matrix)"
   ]
  },
  {
   "cell_type": "code",
   "execution_count": 9,
   "id": "81082726-4030-4580-95a0-115c12c217d7",
   "metadata": {},
   "outputs": [
    {
     "name": "stdout",
     "output_type": "stream",
     "text": [
      "Feature importance scores:\n",
      "sepal length (cm): 0.0847\n",
      "sepal width (cm): 0.0225\n",
      "petal length (cm): 0.4465\n",
      "petal width (cm): 0.4463\n"
     ]
    }
   ],
   "source": [
    "# 8) View feature importance scores\n",
    "feature_importances = list(zip(features, clf.feature_importances_))\n",
    "print(\"Feature importance scores:\")\n",
    "for feature, importance in feature_importances:\n",
    "    print(f\"{feature}: {importance:.4f}\")"
   ]
  },
  {
   "cell_type": "code",
   "execution_count": null,
   "id": "07af31c9-3f48-4bbc-9649-f57ce16c96c6",
   "metadata": {},
   "outputs": [],
   "source": []
  }
 ],
 "metadata": {
  "kernelspec": {
   "display_name": "Python 3 (ipykernel)",
   "language": "python",
   "name": "python3"
  },
  "language_info": {
   "codemirror_mode": {
    "name": "ipython",
    "version": 3
   },
   "file_extension": ".py",
   "mimetype": "text/x-python",
   "name": "python",
   "nbconvert_exporter": "python",
   "pygments_lexer": "ipython3",
   "version": "3.9.21"
  }
 },
 "nbformat": 4,
 "nbformat_minor": 5
}
