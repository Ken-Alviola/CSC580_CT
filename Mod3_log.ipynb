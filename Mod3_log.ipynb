{
 "cells": [
  {
   "cell_type": "code",
   "execution_count": 1,
   "id": "755d1d0f-85ad-4c48-90ce-c2893df3c2d1",
   "metadata": {},
   "outputs": [],
   "source": [
    "import pandas as pd\n",
    "from sklearn.model_selection import train_test_split\n",
    "from sklearn.preprocessing import StandardScaler\n",
    "from tensorflow.keras.models import Sequential\n",
    "from tensorflow.keras.layers import Dense\n",
    "from tensorflow.keras import backend as K"
   ]
  },
  {
   "cell_type": "code",
   "execution_count": 11,
   "id": "c1b2e36f-5deb-4afa-a649-094438199945",
   "metadata": {},
   "outputs": [],
   "source": [
    "# Load the dataset\n",
    "file_path = 'cleaned.csv'  # Replace with the actual path to your cleaned.csv\n",
    "data = pd.read_csv(file_path, low_memory=False)\n",
    "data.dropna(inplace=True)\n",
    "\n",
    "# Preprocess the data\n",
    "# Drop unnecessary columns and separate features (X) and target (y)\n",
    "X = data.drop(columns=['epoch', 'startTimestamp', 'lockTimestamp', 'closeTimestamp', '2round_price_increased'])\n",
    "y = data['2round_price_increased'].astype(int)  # Convert target to integer for binary classification\n",
    "\n",
    "# Scale the feature data\n",
    "scaler = StandardScaler()\n",
    "X_scaled = scaler.fit_transform(X)\n",
    "\n",
    "# Split the data into training and testing sets\n",
    "X_train, X_test, y_train, y_test = train_test_split(X_scaled, y, test_size=0.2, random_state=42, shuffle=False)"
   ]
  },
  {
   "cell_type": "code",
   "execution_count": 12,
   "id": "d646bb72-00a5-41ff-a9db-76cfccbe3da1",
   "metadata": {},
   "outputs": [],
   "source": [
    "# Build the logistic regression neural network model\n",
    "model = Sequential([\n",
    "    Dense(64, input_dim=X_train.shape[1], activation='relu'),  # Hidden layer with ReLU\n",
    "    Dense(32, activation='relu'),  # Additional hidden layer\n",
    "    Dense(1, activation='sigmoid')  # Output layer for binary classification\n",
    "])\n",
    "\n",
    "# Compile the model\n",
    "model.compile(optimizer='adam', loss='binary_crossentropy', metrics=['accuracy'])"
   ]
  },
  {
   "cell_type": "code",
   "execution_count": 13,
   "id": "8d523408-efe1-4a57-919d-87bb4bd04500",
   "metadata": {
    "scrolled": true
   },
   "outputs": [
    {
     "name": "stdout",
     "output_type": "stream",
     "text": [
      "Epoch 1/50\n",
      "1808/1808 [==============================] - 10s 5ms/step - loss: 0.6937 - accuracy: 0.4999 - val_loss: 0.6966 - val_accuracy: 0.4864\n",
      "Epoch 2/50\n",
      "1808/1808 [==============================] - 9s 5ms/step - loss: 0.6933 - accuracy: 0.5019 - val_loss: 0.6939 - val_accuracy: 0.5019\n",
      "Epoch 3/50\n",
      "1808/1808 [==============================] - 8s 4ms/step - loss: 0.6932 - accuracy: 0.5032 - val_loss: 0.6950 - val_accuracy: 0.5008\n",
      "Epoch 4/50\n",
      "1808/1808 [==============================] - 8s 5ms/step - loss: 0.6932 - accuracy: 0.5024 - val_loss: 0.6930 - val_accuracy: 0.5068\n",
      "Epoch 5/50\n",
      "1808/1808 [==============================] - 8s 5ms/step - loss: 0.6931 - accuracy: 0.5028 - val_loss: 0.6940 - val_accuracy: 0.5030\n",
      "Epoch 6/50\n",
      "1808/1808 [==============================] - 8s 5ms/step - loss: 0.6931 - accuracy: 0.5038 - val_loss: 0.6936 - val_accuracy: 0.5038\n",
      "Epoch 7/50\n",
      "1808/1808 [==============================] - 9s 5ms/step - loss: 0.6931 - accuracy: 0.5029 - val_loss: 0.6953 - val_accuracy: 0.4981\n",
      "Epoch 8/50\n",
      "1808/1808 [==============================] - 8s 5ms/step - loss: 0.6931 - accuracy: 0.5037 - val_loss: 0.6940 - val_accuracy: 0.4978\n",
      "Epoch 9/50\n",
      "1808/1808 [==============================] - 9s 5ms/step - loss: 0.6931 - accuracy: 0.5035 - val_loss: 0.6947 - val_accuracy: 0.4985\n",
      "Epoch 10/50\n",
      "1808/1808 [==============================] - 9s 5ms/step - loss: 0.6931 - accuracy: 0.5032 - val_loss: 0.6941 - val_accuracy: 0.5017\n",
      "Epoch 11/50\n",
      "1808/1808 [==============================] - 9s 5ms/step - loss: 0.6931 - accuracy: 0.5030 - val_loss: 0.6946 - val_accuracy: 0.4987\n",
      "Epoch 12/50\n",
      "1808/1808 [==============================] - 8s 5ms/step - loss: 0.6931 - accuracy: 0.5037 - val_loss: 0.6932 - val_accuracy: 0.5047\n",
      "Epoch 13/50\n",
      "1808/1808 [==============================] - 8s 5ms/step - loss: 0.6931 - accuracy: 0.5038 - val_loss: 0.6932 - val_accuracy: 0.5042\n",
      "Epoch 14/50\n",
      "1808/1808 [==============================] - 8s 5ms/step - loss: 0.6931 - accuracy: 0.5038 - val_loss: 0.6937 - val_accuracy: 0.5021\n",
      "Epoch 15/50\n",
      "1808/1808 [==============================] - 9s 5ms/step - loss: 0.6931 - accuracy: 0.5047 - val_loss: 0.6938 - val_accuracy: 0.4974\n",
      "Epoch 16/50\n",
      "1808/1808 [==============================] - 8s 5ms/step - loss: 0.6931 - accuracy: 0.5046 - val_loss: 0.6943 - val_accuracy: 0.4863\n",
      "Epoch 17/50\n",
      "1808/1808 [==============================] - 8s 5ms/step - loss: 0.6931 - accuracy: 0.5053 - val_loss: 0.6938 - val_accuracy: 0.4999\n",
      "Epoch 18/50\n",
      "1808/1808 [==============================] - 8s 4ms/step - loss: 0.6930 - accuracy: 0.5041 - val_loss: 0.6952 - val_accuracy: 0.4879\n",
      "Epoch 19/50\n",
      "1808/1808 [==============================] - 8s 5ms/step - loss: 0.6930 - accuracy: 0.5046 - val_loss: 0.6954 - val_accuracy: 0.4881\n",
      "Epoch 20/50\n",
      "1808/1808 [==============================] - 9s 5ms/step - loss: 0.6930 - accuracy: 0.5046 - val_loss: 0.6952 - val_accuracy: 0.5016\n",
      "Epoch 21/50\n",
      "1808/1808 [==============================] - 8s 5ms/step - loss: 0.6930 - accuracy: 0.5056 - val_loss: 0.6961 - val_accuracy: 0.4888\n",
      "Epoch 22/50\n",
      "1808/1808 [==============================] - 9s 5ms/step - loss: 0.6930 - accuracy: 0.5052 - val_loss: 0.6941 - val_accuracy: 0.5011\n",
      "Epoch 23/50\n",
      "1808/1808 [==============================] - 8s 4ms/step - loss: 0.6930 - accuracy: 0.5050 - val_loss: 0.6948 - val_accuracy: 0.4951\n",
      "Epoch 24/50\n",
      "1808/1808 [==============================] - 8s 5ms/step - loss: 0.6930 - accuracy: 0.5046 - val_loss: 0.6969 - val_accuracy: 0.4968\n",
      "Epoch 25/50\n",
      "1808/1808 [==============================] - 8s 5ms/step - loss: 0.6930 - accuracy: 0.5059 - val_loss: 0.6946 - val_accuracy: 0.4986\n",
      "Epoch 26/50\n",
      "1808/1808 [==============================] - 9s 5ms/step - loss: 0.6930 - accuracy: 0.5054 - val_loss: 0.6943 - val_accuracy: 0.4876\n",
      "Epoch 27/50\n",
      "1808/1808 [==============================] - 8s 5ms/step - loss: 0.6930 - accuracy: 0.5039 - val_loss: 0.6934 - val_accuracy: 0.5041\n",
      "Epoch 28/50\n",
      "1808/1808 [==============================] - 8s 5ms/step - loss: 0.6929 - accuracy: 0.5065 - val_loss: 0.6944 - val_accuracy: 0.4909\n",
      "Epoch 29/50\n",
      "1808/1808 [==============================] - 8s 5ms/step - loss: 0.6929 - accuracy: 0.5051 - val_loss: 0.6959 - val_accuracy: 0.4969\n",
      "Epoch 30/50\n",
      "1808/1808 [==============================] - 8s 5ms/step - loss: 0.6929 - accuracy: 0.5057 - val_loss: 0.6941 - val_accuracy: 0.5032\n",
      "Epoch 31/50\n",
      "1808/1808 [==============================] - 9s 5ms/step - loss: 0.6929 - accuracy: 0.5069 - val_loss: 0.6950 - val_accuracy: 0.5032\n",
      "Epoch 32/50\n",
      "1808/1808 [==============================] - 8s 5ms/step - loss: 0.6929 - accuracy: 0.5061 - val_loss: 0.6953 - val_accuracy: 0.5011\n",
      "Epoch 33/50\n",
      "1808/1808 [==============================] - 8s 4ms/step - loss: 0.6929 - accuracy: 0.5073 - val_loss: 0.6956 - val_accuracy: 0.5017\n",
      "Epoch 34/50\n",
      "1808/1808 [==============================] - 8s 4ms/step - loss: 0.6929 - accuracy: 0.5069 - val_loss: 0.6946 - val_accuracy: 0.5005\n",
      "Epoch 35/50\n",
      "1808/1808 [==============================] - 8s 5ms/step - loss: 0.6929 - accuracy: 0.5067 - val_loss: 0.6944 - val_accuracy: 0.4983\n",
      "Epoch 36/50\n",
      "1808/1808 [==============================] - 8s 5ms/step - loss: 0.6928 - accuracy: 0.5068 - val_loss: 0.6974 - val_accuracy: 0.4949\n",
      "Epoch 37/50\n",
      "1808/1808 [==============================] - 8s 5ms/step - loss: 0.6929 - accuracy: 0.5060 - val_loss: 0.6941 - val_accuracy: 0.5020\n",
      "Epoch 38/50\n",
      "1808/1808 [==============================] - 8s 4ms/step - loss: 0.6928 - accuracy: 0.5063 - val_loss: 0.6937 - val_accuracy: 0.5067\n",
      "Epoch 39/50\n",
      "1808/1808 [==============================] - 8s 5ms/step - loss: 0.6928 - accuracy: 0.5063 - val_loss: 0.6955 - val_accuracy: 0.4976\n",
      "Epoch 40/50\n",
      "1808/1808 [==============================] - 8s 5ms/step - loss: 0.6928 - accuracy: 0.5081 - val_loss: 0.6987 - val_accuracy: 0.4962\n",
      "Epoch 41/50\n",
      "1808/1808 [==============================] - 9s 5ms/step - loss: 0.6928 - accuracy: 0.5070 - val_loss: 0.6961 - val_accuracy: 0.5009\n",
      "Epoch 42/50\n",
      "1808/1808 [==============================] - 8s 5ms/step - loss: 0.6928 - accuracy: 0.5063 - val_loss: 0.6966 - val_accuracy: 0.4977\n",
      "Epoch 43/50\n",
      "1808/1808 [==============================] - 8s 5ms/step - loss: 0.6928 - accuracy: 0.5062 - val_loss: 0.6948 - val_accuracy: 0.4890\n",
      "Epoch 44/50\n",
      "1808/1808 [==============================] - 9s 5ms/step - loss: 0.6928 - accuracy: 0.5067 - val_loss: 0.6952 - val_accuracy: 0.5018\n",
      "Epoch 45/50\n",
      "1808/1808 [==============================] - 8s 4ms/step - loss: 0.6928 - accuracy: 0.5065 - val_loss: 0.6935 - val_accuracy: 0.5024\n",
      "Epoch 46/50\n",
      "1808/1808 [==============================] - 9s 5ms/step - loss: 0.6928 - accuracy: 0.5058 - val_loss: 0.6956 - val_accuracy: 0.5021\n",
      "Epoch 47/50\n",
      "1808/1808 [==============================] - 8s 5ms/step - loss: 0.6928 - accuracy: 0.5074 - val_loss: 0.6978 - val_accuracy: 0.4936\n",
      "Epoch 48/50\n",
      "1808/1808 [==============================] - 9s 5ms/step - loss: 0.6928 - accuracy: 0.5077 - val_loss: 0.6944 - val_accuracy: 0.5038\n",
      "Epoch 49/50\n",
      "1808/1808 [==============================] - 8s 5ms/step - loss: 0.6927 - accuracy: 0.5083 - val_loss: 0.6949 - val_accuracy: 0.4954\n",
      "Epoch 50/50\n",
      "1808/1808 [==============================] - 8s 5ms/step - loss: 0.6927 - accuracy: 0.5076 - val_loss: 0.6964 - val_accuracy: 0.5009\n"
     ]
    }
   ],
   "source": [
    "# Train the model\n",
    "history = model.fit(X_train, y_train, validation_split=0.2, epochs=50, batch_size=128, verbose=1)"
   ]
  },
  {
   "cell_type": "code",
   "execution_count": 14,
   "id": "fe47f9f1-545c-4746-a7d1-db99e880ca0e",
   "metadata": {},
   "outputs": [
    {
     "name": "stdout",
     "output_type": "stream",
     "text": [
      "2259/2259 [==============================] - 6s 3ms/step - loss: 0.7042 - accuracy: 0.4864\n",
      "Test Loss: 0.7042187452316284\n",
      "Test Accuracy: 0.4863806664943695\n"
     ]
    }
   ],
   "source": [
    "# Evaluate the model\n",
    "loss, accuracy = model.evaluate(X_test, y_test, verbose=1)\n",
    "print(f\"Test Loss: {loss}\")\n",
    "print(f\"Test Accuracy: {accuracy}\")"
   ]
  },
  {
   "cell_type": "code",
   "execution_count": null,
   "id": "a009259c-e311-4961-8f30-225b592286e3",
   "metadata": {},
   "outputs": [],
   "source": []
  }
 ],
 "metadata": {
  "kernelspec": {
   "display_name": "Python 3 (ipykernel)",
   "language": "python",
   "name": "python3"
  },
  "language_info": {
   "codemirror_mode": {
    "name": "ipython",
    "version": 3
   },
   "file_extension": ".py",
   "mimetype": "text/x-python",
   "name": "python",
   "nbconvert_exporter": "python",
   "pygments_lexer": "ipython3",
   "version": "3.9.21"
  }
 },
 "nbformat": 4,
 "nbformat_minor": 5
}
